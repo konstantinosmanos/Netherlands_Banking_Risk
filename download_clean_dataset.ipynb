{
 "cells": [
  {
   "cell_type": "code",
   "execution_count": 14,
   "id": "a1281484",
   "metadata": {},
   "outputs": [
    {
     "name": "stderr",
     "output_type": "stream",
     "text": [
      "[*********************100%%**********************]  5 of 5 completed"
     ]
    },
    {
     "name": "stdout",
     "output_type": "stream",
     "text": [
      "             NN Group  ING Group  ABN AMRO  KBC Group  Deutsche Bank\n",
      "Date                                                                \n",
      "2015-11-20   9.466204  19.298832  7.219951  36.073330      18.493412\n",
      "2015-11-23   9.600331  19.097187  7.178678  35.660912      18.723497\n",
      "2015-11-24   9.698343  18.741339  7.153914  36.066689      18.709118\n",
      "2015-11-25  10.033660  18.994387  7.145661  35.973557      19.200933\n",
      "2015-11-26  10.023342  19.160446  7.164923  36.645405      18.711988\n"
     ]
    },
    {
     "name": "stderr",
     "output_type": "stream",
     "text": [
      "\n"
     ]
    }
   ],
   "source": [
    "import yfinance as yf\n",
    "import pandas as pd\n",
    "\n",
    "# Define bank tickers (Yahoo Finance symbols)\n",
    "tickers = {\n",
    "    \"NN Group\": \"NN.AS\",\n",
    "    \"ING Group\": \"INGA.AS\",\n",
    "    \"ABN AMRO\": \"ABN.AS\",\n",
    "    \"KBC Group\": \"KBC.BR\",\n",
    "    \"Deutsche Bank\": \"DBK.DE\"\n",
    "}\n",
    "\n",
    "# Define time period (Correct date format: YYYY-MM-DD)\n",
    "start_date = \"2015-11-20\"\n",
    "end_date = \"2025-02-16\"\n",
    "\n",
    "# Download stock price data (Adjusted Close prices)\n",
    "bank_data = yf.download(list(tickers.values()), start=start_date, end=end_date)[\"Adj Close\"]\n",
    "\n",
    "# Rename columns with bank names\n",
    "bank_data.columns = tickers.keys()\n",
    "\n",
    "# Show first few rows\n",
    "print(bank_data.head())\n",
    "\n",
    "\n"
   ]
  },
  {
   "cell_type": "code",
   "execution_count": 16,
   "id": "332578b8",
   "metadata": {},
   "outputs": [],
   "source": [
    "# Save to CSV file\n",
    "file_path = \"C:/Users/manos/OneDrive/Desktop/GitHub/Portfolio1/Project_2_Netherlands_Banking_Risk/banks_stock_data.csv\"\n",
    "bank_data.to_csv(file_path)"
   ]
  },
  {
   "cell_type": "code",
   "execution_count": 17,
   "id": "f944a6e1",
   "metadata": {},
   "outputs": [
    {
     "name": "stdout",
     "output_type": "stream",
     "text": [
      "\n",
      "Missing Values:\n",
      "NN Group          1\n",
      "ING Group        18\n",
      "ABN AMRO          1\n",
      "KBC Group         1\n",
      "Deutsche Bank     1\n",
      "dtype: int64\n",
      "\n",
      "Duplicate Rows: 0\n",
      "\n",
      "Summary Statistics:\n",
      "          NN Group    ING Group     ABN AMRO    KBC Group  Deutsche Bank\n",
      "count  2365.000000  2348.000000  2365.000000  2365.000000    2365.000000\n",
      "mean     11.037186    10.490272     8.713837    49.082722      27.946040\n",
      "std       2.921706     3.074305     2.938160    10.203927       8.159710\n",
      "min       4.178119     4.488361     2.939275    26.487921      13.324292\n",
      "25%       8.924541     8.240332     6.719219    42.482468      22.386776\n",
      "50%      11.595416     9.952533     8.051501    48.039986      25.319859\n",
      "75%      13.336864    12.672652    10.009310    54.932384      34.582115\n",
      "max      17.865000    19.524000    16.533371    82.180000      46.500000\n"
     ]
    }
   ],
   "source": [
    "# Check for missing values\n",
    "print(\"\\nMissing Values:\")\n",
    "print(bank_data.isnull().sum())\n",
    "\n",
    "# Check for duplicate rows\n",
    "print(\"\\nDuplicate Rows:\", bank_data.duplicated().sum())\n",
    "\n",
    "# Summary statistics\n",
    "print(\"\\nSummary Statistics:\")\n",
    "print(bank_data.describe())"
   ]
  },
  {
   "cell_type": "code",
   "execution_count": 19,
   "id": "873b03be",
   "metadata": {},
   "outputs": [
    {
     "name": "stdout",
     "output_type": "stream",
     "text": [
      "\n",
      "Missing Values After Handling:\n",
      "NN Group         0\n",
      "ING Group        0\n",
      "ABN AMRO         0\n",
      "KBC Group        0\n",
      "Deutsche Bank    0\n",
      "dtype: int64\n"
     ]
    }
   ],
   "source": [
    "# Forward-fill missing values\n",
    "bank_data.fillna(method=\"ffill\", inplace=True)\n",
    "\n",
    "# If forward-fill doesn't work, backfill as a secondary approach\n",
    "bank_data.fillna(method=\"bfill\", inplace=True)\n",
    "\n",
    "# Verify if missing values are handled\n",
    "print(\"\\nMissing Values After Handling:\")\n",
    "print(bank_data.isnull().sum())\n"
   ]
  },
  {
   "cell_type": "code",
   "execution_count": 20,
   "id": "a799c3b0",
   "metadata": {},
   "outputs": [
    {
     "name": "stdout",
     "output_type": "stream",
     "text": [
      "\n",
      " Data Cleaning Complete: Missing values handled and saved.\n"
     ]
    }
   ],
   "source": [
    "# Save the cleaned dataset\n",
    "cleaned_file_path = \"C:/Users/manos/OneDrive/Desktop/GitHub/Portfolio1/Project_2_Netherlands_Banking_Risk/cleaned_banks_stock_data.csv\"\n",
    "bank_data.to_csv(cleaned_file_path)\n",
    "print(\"\\n Data Cleaning Complete: Missing values handled and saved.\")"
   ]
  },
  {
   "cell_type": "code",
   "execution_count": null,
   "id": "4313246f",
   "metadata": {},
   "outputs": [],
   "source": []
  }
 ],
 "metadata": {
  "kernelspec": {
   "display_name": "Python 3 (ipykernel)",
   "language": "python",
   "name": "python3"
  },
  "language_info": {
   "codemirror_mode": {
    "name": "ipython",
    "version": 3
   },
   "file_extension": ".py",
   "mimetype": "text/x-python",
   "name": "python",
   "nbconvert_exporter": "python",
   "pygments_lexer": "ipython3",
   "version": "3.11.4"
  }
 },
 "nbformat": 4,
 "nbformat_minor": 5
}
